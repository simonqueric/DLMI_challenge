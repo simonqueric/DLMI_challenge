{
 "cells": [
  {
   "cell_type": "code",
   "execution_count": 2,
   "id": "74faf3d1",
   "metadata": {},
   "outputs": [],
   "source": [
    "import pandas as pd\n",
    "import numpy as np\n",
    "import matplotlib.pyplot as plt\n",
    "from sklearn.model_selection import train_test_split\n",
    "from sklearn.ensemble import RandomForestClassifier\n",
    "import torch\n",
    "import torch.nn as nn\n",
    "import torch.nn.functional as F\n",
    "from torch.utils.data import Dataset, DataLoader\n",
    "from datetime import datetime\n",
    "import tqdm as tqdm\n",
    "import glob"
   ]
  },
  {
   "cell_type": "code",
   "execution_count": 3,
   "id": "d2d79140",
   "metadata": {},
   "outputs": [],
   "source": [
    "data = pd.read_csv(\"clinical_annotation.csv\")"
   ]
  },
  {
   "cell_type": "code",
   "execution_count": 4,
   "id": "752df258",
   "metadata": {},
   "outputs": [
    {
     "data": {
      "text/html": [
       "<div>\n",
       "<style scoped>\n",
       "    .dataframe tbody tr th:only-of-type {\n",
       "        vertical-align: middle;\n",
       "    }\n",
       "\n",
       "    .dataframe tbody tr th {\n",
       "        vertical-align: top;\n",
       "    }\n",
       "\n",
       "    .dataframe thead th {\n",
       "        text-align: right;\n",
       "    }\n",
       "</style>\n",
       "<table border=\"1\" class=\"dataframe\">\n",
       "  <thead>\n",
       "    <tr style=\"text-align: right;\">\n",
       "      <th></th>\n",
       "      <th>Unnamed: 0</th>\n",
       "      <th>ID</th>\n",
       "      <th>LABEL</th>\n",
       "      <th>GENDER</th>\n",
       "      <th>DOB</th>\n",
       "      <th>LYMPH_COUNT</th>\n",
       "    </tr>\n",
       "  </thead>\n",
       "  <tbody>\n",
       "    <tr>\n",
       "      <th>0</th>\n",
       "      <td>0</td>\n",
       "      <td>P26</td>\n",
       "      <td>1</td>\n",
       "      <td>M</td>\n",
       "      <td>11/3/1933</td>\n",
       "      <td>11.2</td>\n",
       "    </tr>\n",
       "    <tr>\n",
       "      <th>1</th>\n",
       "      <td>1</td>\n",
       "      <td>P183</td>\n",
       "      <td>1</td>\n",
       "      <td>M</td>\n",
       "      <td>5/15/1942</td>\n",
       "      <td>12.8</td>\n",
       "    </tr>\n",
       "    <tr>\n",
       "      <th>2</th>\n",
       "      <td>2</td>\n",
       "      <td>P89</td>\n",
       "      <td>1</td>\n",
       "      <td>M</td>\n",
       "      <td>6/19/1935</td>\n",
       "      <td>9.6</td>\n",
       "    </tr>\n",
       "    <tr>\n",
       "      <th>3</th>\n",
       "      <td>3</td>\n",
       "      <td>P123</td>\n",
       "      <td>1</td>\n",
       "      <td>M</td>\n",
       "      <td>1/27/1931</td>\n",
       "      <td>122.6</td>\n",
       "    </tr>\n",
       "    <tr>\n",
       "      <th>4</th>\n",
       "      <td>4</td>\n",
       "      <td>P61</td>\n",
       "      <td>1</td>\n",
       "      <td>F</td>\n",
       "      <td>3/5/1931</td>\n",
       "      <td>11.6</td>\n",
       "    </tr>\n",
       "  </tbody>\n",
       "</table>\n",
       "</div>"
      ],
      "text/plain": [
       "   Unnamed: 0    ID  LABEL GENDER        DOB  LYMPH_COUNT\n",
       "0           0   P26      1      M  11/3/1933         11.2\n",
       "1           1  P183      1      M  5/15/1942         12.8\n",
       "2           2   P89      1      M  6/19/1935          9.6\n",
       "3           3  P123      1      M  1/27/1931        122.6\n",
       "4           4   P61      1      F   3/5/1931         11.6"
      ]
     },
     "execution_count": 4,
     "metadata": {},
     "output_type": "execute_result"
    }
   ],
   "source": [
    "data.head()"
   ]
  },
  {
   "cell_type": "code",
   "execution_count": 5,
   "id": "8f4ff68c",
   "metadata": {},
   "outputs": [],
   "source": [
    "data[[\"ID\", \"LABEL\", \"LYMPH_COUNT\"]]\n",
    "plt.show()"
   ]
  },
  {
   "cell_type": "code",
   "execution_count": 6,
   "id": "926e2068",
   "metadata": {
    "scrolled": false
   },
   "outputs": [],
   "source": [
    "data = data.sort_values(\"LYMPH_COUNT\")"
   ]
  },
  {
   "cell_type": "code",
   "execution_count": 7,
   "id": "8d2e719d",
   "metadata": {},
   "outputs": [],
   "source": [
    "data_train = data[data[\"LABEL\"]!=-1]\n",
    "data_test = data[data[\"LABEL\"]==-1]"
   ]
  },
  {
   "cell_type": "code",
   "execution_count": 8,
   "id": "0687caef",
   "metadata": {},
   "outputs": [],
   "source": [
    "X, y = data_train[\"LYMPH_COUNT\"].values, data_train[\"LABEL\"].values"
   ]
  },
  {
   "cell_type": "code",
   "execution_count": 9,
   "id": "4fa0cbfe",
   "metadata": {},
   "outputs": [
    {
     "data": {
      "text/plain": [
       "<matplotlib.collections.PathCollection at 0x7fc9b09e1690>"
      ]
     },
     "execution_count": 9,
     "metadata": {},
     "output_type": "execute_result"
    },
    {
     "data": {
      "image/png": "[encoded data removed]",
      "text/plain": [
       "<Figure size 432x288 with 1 Axes>"
      ]
     },
     "metadata": {
      "needs_background": "light"
     },
     "output_type": "display_data"
    }
   ],
   "source": [
    "plt.scatter(X, y)"
   ]
  },
  {
   "cell_type": "code",
   "execution_count": 10,
   "id": "17f7690f",
   "metadata": {},
   "outputs": [
    {
     "data": {
      "text/plain": [
       "[<matplotlib.lines.Line2D at 0x7fc9b08ee5c0>]"
      ]
     },
     "execution_count": 10,
     "metadata": {},
     "output_type": "execute_result"
    },
    {
     "data": {
      "image/png": "[encoded data removed]",
      "text/plain": [
       "<Figure size 432x288 with 1 Axes>"
      ]
     },
     "metadata": {
      "needs_background": "light"
     },
     "output_type": "display_data"
    }
   ],
   "source": [
    "plt.plot(X)"
   ]
  },
  {
   "cell_type": "code",
   "execution_count": null,
   "id": "ca5cffe8",
   "metadata": {},
   "outputs": [],
   "source": []
  },
  {
   "cell_type": "code",
   "execution_count": 11,
   "id": "acb73db0",
   "metadata": {},
   "outputs": [],
   "source": [
    "X_train, X_val, y_train, y_val = train_test_split(X, y)"
   ]
  },
  {
   "cell_type": "code",
   "execution_count": 12,
   "id": "e2086bf7",
   "metadata": {},
   "outputs": [],
   "source": [
    "clf = RandomForestClassifier(n_estimators=100)"
   ]
  },
  {
   "cell_type": "code",
   "execution_count": 13,
   "id": "0b276bdd",
   "metadata": {},
   "outputs": [
    {
     "data": {
      "text/html": [
       "<style>#sk-container-id-1 {color: black;}#sk-container-id-1 pre{padding: 0;}#sk-container-id-1 div.sk-toggleable {background-color: white;}#sk-container-id-1 label.sk-toggleable__label {cursor: pointer;display: block;width: 100%;margin-bottom: 0;padding: 0.3em;box-sizing: border-box;text-align: center;}#sk-container-id-1 label.sk-toggleable__label-arrow:before {content: \"▸\";float: left;margin-right: 0.25em;color: #696969;}#sk-container-id-1 label.sk-toggleable__label-arrow:hover:before {color: black;}#sk-container-id-1 div.sk-estimator:hover label.sk-toggleable__label-arrow:before {color: black;}#sk-container-id-1 div.sk-toggleable__content {max-height: 0;max-width: 0;overflow: hidden;text-align: left;background-color: #f0f8ff;}#sk-container-id-1 div.sk-toggleable__content pre {margin: 0.2em;color: black;border-radius: 0.25em;background-color: #f0f8ff;}#sk-container-id-1 input.sk-toggleable__control:checked~div.sk-toggleable__content {max-height: 200px;max-width: 100%;overflow: auto;}#sk-container-id-1 input.sk-toggleable__control:checked~label.sk-toggleable__label-arrow:before {content: \"▾\";}#sk-container-id-1 div.sk-estimator input.sk-toggleable__control:checked~label.sk-toggleable__label {background-color: #d4ebff;}#sk-container-id-1 div.sk-label input.sk-toggleable__control:checked~label.sk-toggleable__label {background-color: #d4ebff;}#sk-container-id-1 input.sk-hidden--visually {border: 0;clip: rect(1px 1px 1px 1px);clip: rect(1px, 1px, 1px, 1px);height: 1px;margin: -1px;overflow: hidden;padding: 0;position: absolute;width: 1px;}#sk-container-id-1 div.sk-estimator {font-family: monospace;background-color: #f0f8ff;border: 1px dotted black;border-radius: 0.25em;box-sizing: border-box;margin-bottom: 0.5em;}#sk-container-id-1 div.sk-estimator:hover {background-color: #d4ebff;}#sk-container-id-1 div.sk-parallel-item::after {content: \"\";width: 100%;border-bottom: 1px solid gray;flex-grow: 1;}#sk-container-id-1 div.sk-label:hover label.sk-toggleable__label {background-color: #d4ebff;}#sk-container-id-1 div.sk-serial::before {content: \"\";position: absolute;border-left: 1px solid gray;box-sizing: border-box;top: 0;bottom: 0;left: 50%;z-index: 0;}#sk-container-id-1 div.sk-serial {display: flex;flex-direction: column;align-items: center;background-color: white;padding-right: 0.2em;padding-left: 0.2em;position: relative;}#sk-container-id-1 div.sk-item {position: relative;z-index: 1;}#sk-container-id-1 div.sk-parallel {display: flex;align-items: stretch;justify-content: center;background-color: white;position: relative;}#sk-container-id-1 div.sk-item::before, #sk-container-id-1 div.sk-parallel-item::before {content: \"\";position: absolute;border-left: 1px solid gray;box-sizing: border-box;top: 0;bottom: 0;left: 50%;z-index: -1;}#sk-container-id-1 div.sk-parallel-item {display: flex;flex-direction: column;z-index: 1;position: relative;background-color: white;}#sk-container-id-1 div.sk-parallel-item:first-child::after {align-self: flex-end;width: 50%;}#sk-container-id-1 div.sk-parallel-item:last-child::after {align-self: flex-start;width: 50%;}#sk-container-id-1 div.sk-parallel-item:only-child::after {width: 0;}#sk-container-id-1 div.sk-dashed-wrapped {border: 1px dashed gray;margin: 0 0.4em 0.5em 0.4em;box-sizing: border-box;padding-bottom: 0.4em;background-color: white;}#sk-container-id-1 div.sk-label label {font-family: monospace;font-weight: bold;display: inline-block;line-height: 1.2em;}#sk-container-id-1 div.sk-label-container {text-align: center;}#sk-container-id-1 div.sk-container {/* jupyter's `normalize.less` sets `[hidden] { display: none; }` but bootstrap.min.css set `[hidden] { display: none !important; }` so we also need the `!important` here to be able to override the default hidden behavior on the sphinx rendered scikit-learn.org. See: https://github.com/scikit-learn/scikit-learn/issues/21755 */display: inline-block !important;position: relative;}#sk-container-id-1 div.sk-text-repr-fallback {display: none;}</style><div id=\"sk-container-id-1\" class=\"sk-top-container\"><div class=\"sk-text-repr-fallback\"><pre>RandomForestClassifier()</pre><b>In a Jupyter environment, please rerun this cell to show the HTML representation or trust the notebook. <br />On GitHub, the HTML representation is unable to render, please try loading this page with nbviewer.org.</b></div><div class=\"sk-container\" hidden><div class=\"sk-item\"><div class=\"sk-estimator sk-toggleable\"><input class=\"sk-toggleable__control sk-hidden--visually\" id=\"sk-estimator-id-1\" type=\"checkbox\" checked><label for=\"sk-estimator-id-1\" class=\"sk-toggleable__label sk-toggleable__label-arrow\">RandomForestClassifier</label><div class=\"sk-toggleable__content\"><pre>RandomForestClassifier()</pre></div></div></div></div></div>"
      ],
      "text/plain": [
       "RandomForestClassifier()"
      ]
     },
     "execution_count": 13,
     "metadata": {},
     "output_type": "execute_result"
    }
   ],
   "source": [
    "clf.fit(X_train.reshape(-1, 1), y_train)"
   ]
  },
  {
   "cell_type": "code",
   "execution_count": 14,
   "id": "f68e01b1",
   "metadata": {},
   "outputs": [
    {
     "data": {
      "text/plain": [
       "0.7317073170731707"
      ]
     },
     "execution_count": 14,
     "metadata": {},
     "output_type": "execute_result"
    }
   ],
   "source": [
    "np.sum(clf.predict(X_val.reshape(-1,1))==y_val)/len(y_val)"
   ]
  },
  {
   "cell_type": "code",
   "execution_count": 15,
   "id": "c9290c79",
   "metadata": {},
   "outputs": [],
   "source": [
    "X_test = data_test[\"LYMPH_COUNT\"].values"
   ]
  },
  {
   "cell_type": "code",
   "execution_count": 16,
   "id": "c9e1be30",
   "metadata": {},
   "outputs": [],
   "source": [
    "y_pred = clf.predict(X_test.reshape(-1, 1))"
   ]
  },
  {
   "cell_type": "code",
   "execution_count": 17,
   "id": "e5e5d558",
   "metadata": {},
   "outputs": [],
   "source": [
    "images = glob.glob(\"trainset/*/*.jpg\")\n",
    "images.sort()\n",
    "n = len(images)"
   ]
  },
  {
   "cell_type": "code",
   "execution_count": 18,
   "id": "06e46493",
   "metadata": {},
   "outputs": [],
   "source": [
    "submission = pd.DataFrame()"
   ]
  },
  {
   "cell_type": "code",
   "execution_count": 19,
   "id": "6dab493f",
   "metadata": {
    "scrolled": true
   },
   "outputs": [],
   "source": [
    "submission[\"Id\"] = list(data_test[\"ID\"].values)\n",
    "submission[\"Predicted\"] = y_pred"
   ]
  },
  {
   "cell_type": "code",
   "execution_count": 20,
   "id": "0d5d77da",
   "metadata": {},
   "outputs": [],
   "source": [
    "submission.to_csv(\"submission.csv\", sep=\",\", index=False)"
   ]
  },
  {
   "cell_type": "code",
   "execution_count": 21,
   "id": "e0f8f798",
   "metadata": {},
   "outputs": [
    {
     "name": "stdout",
     "output_type": "stream",
     "text": [
      "clinical_annotation.csv   \u001b[0m\u001b[01;34mlabs\u001b[0m/                  submission.csv  \u001b[01;34mtrainset\u001b[0m/\r\n",
      "dl_medical_imaging.ipynb  sample_submission.csv  \u001b[01;34mtestset\u001b[0m/\r\n"
     ]
    }
   ],
   "source": [
    "ls"
   ]
  },
  {
   "cell_type": "code",
   "execution_count": 22,
   "id": "84bb7041",
   "metadata": {
    "collapsed": true
   },
   "outputs": [
    {
     "data": {
      "text/html": [
       "<div>\n",
       "<style scoped>\n",
       "    .dataframe tbody tr th:only-of-type {\n",
       "        vertical-align: middle;\n",
       "    }\n",
       "\n",
       "    .dataframe tbody tr th {\n",
       "        vertical-align: top;\n",
       "    }\n",
       "\n",
       "    .dataframe thead th {\n",
       "        text-align: right;\n",
       "    }\n",
       "</style>\n",
       "<table border=\"1\" class=\"dataframe\">\n",
       "  <thead>\n",
       "    <tr style=\"text-align: right;\">\n",
       "      <th></th>\n",
       "      <th>Id</th>\n",
       "      <th>Predicted</th>\n",
       "    </tr>\n",
       "  </thead>\n",
       "  <tbody>\n",
       "    <tr>\n",
       "      <th>0</th>\n",
       "      <td>P24</td>\n",
       "      <td>0</td>\n",
       "    </tr>\n",
       "    <tr>\n",
       "      <th>1</th>\n",
       "      <td>P7</td>\n",
       "      <td>0</td>\n",
       "    </tr>\n",
       "    <tr>\n",
       "      <th>2</th>\n",
       "      <td>P57</td>\n",
       "      <td>0</td>\n",
       "    </tr>\n",
       "    <tr>\n",
       "      <th>3</th>\n",
       "      <td>P73</td>\n",
       "      <td>0</td>\n",
       "    </tr>\n",
       "    <tr>\n",
       "      <th>4</th>\n",
       "      <td>P68</td>\n",
       "      <td>0</td>\n",
       "    </tr>\n",
       "    <tr>\n",
       "      <th>5</th>\n",
       "      <td>P114</td>\n",
       "      <td>0</td>\n",
       "    </tr>\n",
       "    <tr>\n",
       "      <th>6</th>\n",
       "      <td>P188</td>\n",
       "      <td>0</td>\n",
       "    </tr>\n",
       "    <tr>\n",
       "      <th>7</th>\n",
       "      <td>P86</td>\n",
       "      <td>0</td>\n",
       "    </tr>\n",
       "    <tr>\n",
       "      <th>8</th>\n",
       "      <td>P170</td>\n",
       "      <td>0</td>\n",
       "    </tr>\n",
       "    <tr>\n",
       "      <th>9</th>\n",
       "      <td>P18</td>\n",
       "      <td>1</td>\n",
       "    </tr>\n",
       "    <tr>\n",
       "      <th>10</th>\n",
       "      <td>P148</td>\n",
       "      <td>0</td>\n",
       "    </tr>\n",
       "    <tr>\n",
       "      <th>11</th>\n",
       "      <td>P4</td>\n",
       "      <td>1</td>\n",
       "    </tr>\n",
       "    <tr>\n",
       "      <th>12</th>\n",
       "      <td>P178</td>\n",
       "      <td>0</td>\n",
       "    </tr>\n",
       "    <tr>\n",
       "      <th>13</th>\n",
       "      <td>P58</td>\n",
       "      <td>1</td>\n",
       "    </tr>\n",
       "    <tr>\n",
       "      <th>14</th>\n",
       "      <td>P71</td>\n",
       "      <td>0</td>\n",
       "    </tr>\n",
       "    <tr>\n",
       "      <th>15</th>\n",
       "      <td>P152</td>\n",
       "      <td>1</td>\n",
       "    </tr>\n",
       "    <tr>\n",
       "      <th>16</th>\n",
       "      <td>P197</td>\n",
       "      <td>0</td>\n",
       "    </tr>\n",
       "    <tr>\n",
       "      <th>17</th>\n",
       "      <td>P108</td>\n",
       "      <td>0</td>\n",
       "    </tr>\n",
       "    <tr>\n",
       "      <th>18</th>\n",
       "      <td>P98</td>\n",
       "      <td>0</td>\n",
       "    </tr>\n",
       "    <tr>\n",
       "      <th>19</th>\n",
       "      <td>P14</td>\n",
       "      <td>1</td>\n",
       "    </tr>\n",
       "    <tr>\n",
       "      <th>20</th>\n",
       "      <td>P56</td>\n",
       "      <td>1</td>\n",
       "    </tr>\n",
       "    <tr>\n",
       "      <th>21</th>\n",
       "      <td>P196</td>\n",
       "      <td>1</td>\n",
       "    </tr>\n",
       "    <tr>\n",
       "      <th>22</th>\n",
       "      <td>P69</td>\n",
       "      <td>1</td>\n",
       "    </tr>\n",
       "    <tr>\n",
       "      <th>23</th>\n",
       "      <td>P133</td>\n",
       "      <td>0</td>\n",
       "    </tr>\n",
       "    <tr>\n",
       "      <th>24</th>\n",
       "      <td>P203</td>\n",
       "      <td>1</td>\n",
       "    </tr>\n",
       "    <tr>\n",
       "      <th>25</th>\n",
       "      <td>P119</td>\n",
       "      <td>1</td>\n",
       "    </tr>\n",
       "    <tr>\n",
       "      <th>26</th>\n",
       "      <td>P49</td>\n",
       "      <td>1</td>\n",
       "    </tr>\n",
       "    <tr>\n",
       "      <th>27</th>\n",
       "      <td>P93</td>\n",
       "      <td>1</td>\n",
       "    </tr>\n",
       "    <tr>\n",
       "      <th>28</th>\n",
       "      <td>P139</td>\n",
       "      <td>1</td>\n",
       "    </tr>\n",
       "    <tr>\n",
       "      <th>29</th>\n",
       "      <td>P9</td>\n",
       "      <td>1</td>\n",
       "    </tr>\n",
       "    <tr>\n",
       "      <th>30</th>\n",
       "      <td>P138</td>\n",
       "      <td>1</td>\n",
       "    </tr>\n",
       "    <tr>\n",
       "      <th>31</th>\n",
       "      <td>P132</td>\n",
       "      <td>1</td>\n",
       "    </tr>\n",
       "    <tr>\n",
       "      <th>32</th>\n",
       "      <td>P175</td>\n",
       "      <td>1</td>\n",
       "    </tr>\n",
       "    <tr>\n",
       "      <th>33</th>\n",
       "      <td>P16</td>\n",
       "      <td>1</td>\n",
       "    </tr>\n",
       "    <tr>\n",
       "      <th>34</th>\n",
       "      <td>P172</td>\n",
       "      <td>1</td>\n",
       "    </tr>\n",
       "    <tr>\n",
       "      <th>35</th>\n",
       "      <td>P143</td>\n",
       "      <td>1</td>\n",
       "    </tr>\n",
       "    <tr>\n",
       "      <th>36</th>\n",
       "      <td>P120</td>\n",
       "      <td>1</td>\n",
       "    </tr>\n",
       "    <tr>\n",
       "      <th>37</th>\n",
       "      <td>P92</td>\n",
       "      <td>1</td>\n",
       "    </tr>\n",
       "    <tr>\n",
       "      <th>38</th>\n",
       "      <td>P81</td>\n",
       "      <td>1</td>\n",
       "    </tr>\n",
       "    <tr>\n",
       "      <th>39</th>\n",
       "      <td>P75</td>\n",
       "      <td>1</td>\n",
       "    </tr>\n",
       "    <tr>\n",
       "      <th>40</th>\n",
       "      <td>P195</td>\n",
       "      <td>1</td>\n",
       "    </tr>\n",
       "    <tr>\n",
       "      <th>41</th>\n",
       "      <td>P32</td>\n",
       "      <td>1</td>\n",
       "    </tr>\n",
       "  </tbody>\n",
       "</table>\n",
       "</div>"
      ],
      "text/plain": [
       "      Id  Predicted\n",
       "0    P24          0\n",
       "1     P7          0\n",
       "2    P57          0\n",
       "3    P73          0\n",
       "4    P68          0\n",
       "5   P114          0\n",
       "6   P188          0\n",
       "7    P86          0\n",
       "8   P170          0\n",
       "9    P18          1\n",
       "10  P148          0\n",
       "11    P4          1\n",
       "12  P178          0\n",
       "13   P58          1\n",
       "14   P71          0\n",
       "15  P152          1\n",
       "16  P197          0\n",
       "17  P108          0\n",
       "18   P98          0\n",
       "19   P14          1\n",
       "20   P56          1\n",
       "21  P196          1\n",
       "22   P69          1\n",
       "23  P133          0\n",
       "24  P203          1\n",
       "25  P119          1\n",
       "26   P49          1\n",
       "27   P93          1\n",
       "28  P139          1\n",
       "29    P9          1\n",
       "30  P138          1\n",
       "31  P132          1\n",
       "32  P175          1\n",
       "33   P16          1\n",
       "34  P172          1\n",
       "35  P143          1\n",
       "36  P120          1\n",
       "37   P92          1\n",
       "38   P81          1\n",
       "39   P75          1\n",
       "40  P195          1\n",
       "41   P32          1"
      ]
     },
     "execution_count": 22,
     "metadata": {},
     "output_type": "execute_result"
    }
   ],
   "source": [
    "submission"
   ]
  },
  {
   "cell_type": "code",
   "execution_count": 13,
   "id": "198e1779",
   "metadata": {},
   "outputs": [],
   "source": [
    "index = np.random.randint(n)"
   ]
  },
  {
   "cell_type": "code",
   "execution_count": 23,
   "id": "4ac6d307",
   "metadata": {},
   "outputs": [],
   "source": [
    "index = np.random.randint(n)\n",
    "img = plt.imread(images[index])"
   ]
  },
  {
   "cell_type": "code",
   "execution_count": 24,
   "id": "d7e04d05",
   "metadata": {},
   "outputs": [],
   "source": [
    "patients = glob.glob(\"trainset/*\")\n",
    "patients.sort()"
   ]
  },
  {
   "cell_type": "code",
   "execution_count": 25,
   "id": "75658ae8",
   "metadata": {},
   "outputs": [],
   "source": [
    "nb_images = []\n",
    "\n",
    "for patient in patients :\n",
    "    nb_images.append(len(glob.glob(patient+\"/*\")))"
   ]
  },
  {
   "cell_type": "code",
   "execution_count": 26,
   "id": "229ddb18",
   "metadata": {
    "collapsed": true
   },
   "outputs": [
    {
     "data": {
      "text/plain": [
       "[87,\n",
       " 80,\n",
       " 32,\n",
       " 43,\n",
       " 52,\n",
       " 149,\n",
       " 29,\n",
       " 62,\n",
       " 62,\n",
       " 51,\n",
       " 85,\n",
       " 80,\n",
       " 135,\n",
       " 67,\n",
       " 194,\n",
       " 171,\n",
       " 74,\n",
       " 66,\n",
       " 32,\n",
       " 113,\n",
       " 42,\n",
       " 46,\n",
       " 68,\n",
       " 57,\n",
       " 173,\n",
       " 112,\n",
       " 54,\n",
       " 153,\n",
       " 33,\n",
       " 156,\n",
       " 45,\n",
       " 130,\n",
       " 53,\n",
       " 46,\n",
       " 165,\n",
       " 108,\n",
       " 136,\n",
       " 54,\n",
       " 34,\n",
       " 79,\n",
       " 73,\n",
       " 69,\n",
       " 78,\n",
       " 33,\n",
       " 166,\n",
       " 57,\n",
       " 110,\n",
       " 85,\n",
       " 94,\n",
       " 77,\n",
       " 87,\n",
       " 64,\n",
       " 85,\n",
       " 95,\n",
       " 180,\n",
       " 31,\n",
       " 53,\n",
       " 63,\n",
       " 50,\n",
       " 158,\n",
       " 28,\n",
       " 80,\n",
       " 53,\n",
       " 96,\n",
       " 169,\n",
       " 38,\n",
       " 43,\n",
       " 45,\n",
       " 39,\n",
       " 77,\n",
       " 96,\n",
       " 70,\n",
       " 41,\n",
       " 171,\n",
       " 120,\n",
       " 45,\n",
       " 63,\n",
       " 188,\n",
       " 60,\n",
       " 79,\n",
       " 49,\n",
       " 102,\n",
       " 113,\n",
       " 114,\n",
       " 41,\n",
       " 92,\n",
       " 55,\n",
       " 74,\n",
       " 88,\n",
       " 47,\n",
       " 140,\n",
       " 72,\n",
       " 34,\n",
       " 66,\n",
       " 61,\n",
       " 61,\n",
       " 97,\n",
       " 106,\n",
       " 173,\n",
       " 43,\n",
       " 100,\n",
       " 169,\n",
       " 20,\n",
       " 54,\n",
       " 66,\n",
       " 97,\n",
       " 72,\n",
       " 156,\n",
       " 50,\n",
       " 198,\n",
       " 49,\n",
       " 170,\n",
       " 45,\n",
       " 36,\n",
       " 89,\n",
       " 53,\n",
       " 171,\n",
       " 64,\n",
       " 63,\n",
       " 44,\n",
       " 187,\n",
       " 28,\n",
       " 165,\n",
       " 120,\n",
       " 43,\n",
       " 45,\n",
       " 47,\n",
       " 81,\n",
       " 40,\n",
       " 29,\n",
       " 162,\n",
       " 68,\n",
       " 66,\n",
       " 56,\n",
       " 16,\n",
       " 46,\n",
       " 42,\n",
       " 99,\n",
       " 63,\n",
       " 104,\n",
       " 53,\n",
       " 36,\n",
       " 64,\n",
       " 50,\n",
       " 69,\n",
       " 38,\n",
       " 169,\n",
       " 56,\n",
       " 56,\n",
       " 54,\n",
       " 113,\n",
       " 54,\n",
       " 183,\n",
       " 57,\n",
       " 65,\n",
       " 52,\n",
       " 163,\n",
       " 51,\n",
       " 90,\n",
       " 74,\n",
       " 145,\n",
       " 57,\n",
       " 86,\n",
       " 0]"
      ]
     },
     "execution_count": 26,
     "metadata": {},
     "output_type": "execute_result"
    }
   ],
   "source": [
    "nb_images"
   ]
  },
  {
   "cell_type": "code",
   "execution_count": 27,
   "id": "431a3b8f",
   "metadata": {},
   "outputs": [
    {
     "data": {
      "text/plain": [
       "'trainset/trainset_true.csv'"
      ]
     },
     "execution_count": 27,
     "metadata": {},
     "output_type": "execute_result"
    }
   ],
   "source": [
    "patients[-1]"
   ]
  },
  {
   "cell_type": "code",
   "execution_count": 28,
   "id": "79569ab4",
   "metadata": {},
   "outputs": [],
   "source": [
    "index = np.random.randint(n)\n",
    "img = plt.imread(images[index])"
   ]
  },
  {
   "cell_type": "code",
   "execution_count": 28,
   "id": "9d184aea",
   "metadata": {},
   "outputs": [
    {
     "data": {
      "image/png": "[encoded data removed]",
      "text/plain": [
       "<Figure size 432x288 with 1 Axes>"
      ]
     },
     "metadata": {
      "needs_background": "light"
     },
     "output_type": "display_data"
    }
   ],
   "source": [
    "plt.imshow(img)\n",
    "plt.show()"
   ]
  },
  {
   "cell_type": "code",
   "execution_count": 29,
   "id": "44ac9b7b",
   "metadata": {},
   "outputs": [
    {
     "data": {
      "text/plain": [
       "(224, 224, 3)"
      ]
     },
     "execution_count": 29,
     "metadata": {},
     "output_type": "execute_result"
    }
   ],
   "source": [
    "img.shape"
   ]
  },
  {
   "cell_type": "markdown",
   "id": "8b07b8ea",
   "metadata": {},
   "source": [
    "| Layer | Layer Name | Output Size | Residual Blocks |\n",
    "|:-------|------------|-------------|-----------------|\n",
    "| 1 | conv1 | 112 × 112 | |\n",
    "| 2 | conv2 | 56 × 56 | [3 × 3, K 3 × 3, K] |\n",
    "| 3 | conv3 | 28 × 28 | [3 × 3, 2K 3 × 3, 2K] \n",
    "| 4 | conv4 | 14 × 14 | [3 × 3, 4K 3 × 3, 4K]\n",
    "| 5 | conv5 | 7 × 7 | [3 × 3, 8K 3 × 3, 8K] |\n",
    "| 6 | flatten | 7 · 7 · 8K |\n",
    "\n",
    "Loss : negative log likelihood loss"
   ]
  },
  {
   "cell_type": "code",
   "execution_count": 30,
   "id": "05bdb3d6",
   "metadata": {},
   "outputs": [
    {
     "data": {
      "text/html": [
       "<div>\n",
       "<style scoped>\n",
       "    .dataframe tbody tr th:only-of-type {\n",
       "        vertical-align: middle;\n",
       "    }\n",
       "\n",
       "    .dataframe tbody tr th {\n",
       "        vertical-align: top;\n",
       "    }\n",
       "\n",
       "    .dataframe thead th {\n",
       "        text-align: right;\n",
       "    }\n",
       "</style>\n",
       "<table border=\"1\" class=\"dataframe\">\n",
       "  <thead>\n",
       "    <tr style=\"text-align: right;\">\n",
       "      <th></th>\n",
       "      <th>ID</th>\n",
       "      <th>LABEL</th>\n",
       "      <th>GENDER</th>\n",
       "      <th>DOB</th>\n",
       "      <th>LYMPH_COUNT</th>\n",
       "    </tr>\n",
       "  </thead>\n",
       "  <tbody>\n",
       "    <tr>\n",
       "      <th>0</th>\n",
       "      <td>P26</td>\n",
       "      <td>1</td>\n",
       "      <td>M</td>\n",
       "      <td>11/3/1933</td>\n",
       "      <td>11.20</td>\n",
       "    </tr>\n",
       "    <tr>\n",
       "      <th>1</th>\n",
       "      <td>P183</td>\n",
       "      <td>1</td>\n",
       "      <td>M</td>\n",
       "      <td>5/15/1942</td>\n",
       "      <td>12.80</td>\n",
       "    </tr>\n",
       "    <tr>\n",
       "      <th>2</th>\n",
       "      <td>P89</td>\n",
       "      <td>1</td>\n",
       "      <td>M</td>\n",
       "      <td>6/19/1935</td>\n",
       "      <td>9.60</td>\n",
       "    </tr>\n",
       "    <tr>\n",
       "      <th>3</th>\n",
       "      <td>P123</td>\n",
       "      <td>1</td>\n",
       "      <td>M</td>\n",
       "      <td>1/27/1931</td>\n",
       "      <td>122.60</td>\n",
       "    </tr>\n",
       "    <tr>\n",
       "      <th>4</th>\n",
       "      <td>P61</td>\n",
       "      <td>1</td>\n",
       "      <td>F</td>\n",
       "      <td>3/5/1931</td>\n",
       "      <td>11.60</td>\n",
       "    </tr>\n",
       "    <tr>\n",
       "      <th>...</th>\n",
       "      <td>...</td>\n",
       "      <td>...</td>\n",
       "      <td>...</td>\n",
       "      <td>...</td>\n",
       "      <td>...</td>\n",
       "    </tr>\n",
       "    <tr>\n",
       "      <th>158</th>\n",
       "      <td>P135</td>\n",
       "      <td>1</td>\n",
       "      <td>M</td>\n",
       "      <td>27-08-1951</td>\n",
       "      <td>9.45</td>\n",
       "    </tr>\n",
       "    <tr>\n",
       "      <th>159</th>\n",
       "      <td>P8</td>\n",
       "      <td>0</td>\n",
       "      <td>M</td>\n",
       "      <td>16-05-1975</td>\n",
       "      <td>4.91</td>\n",
       "    </tr>\n",
       "    <tr>\n",
       "      <th>160</th>\n",
       "      <td>P130</td>\n",
       "      <td>0</td>\n",
       "      <td>F</td>\n",
       "      <td>16-05-1943</td>\n",
       "      <td>4.17</td>\n",
       "    </tr>\n",
       "    <tr>\n",
       "      <th>161</th>\n",
       "      <td>P70</td>\n",
       "      <td>1</td>\n",
       "      <td>M</td>\n",
       "      <td>05-09-1987</td>\n",
       "      <td>5.66</td>\n",
       "    </tr>\n",
       "    <tr>\n",
       "      <th>162</th>\n",
       "      <td>P60</td>\n",
       "      <td>0</td>\n",
       "      <td>F</td>\n",
       "      <td>5/23/1993</td>\n",
       "      <td>6.42</td>\n",
       "    </tr>\n",
       "  </tbody>\n",
       "</table>\n",
       "<p>163 rows × 5 columns</p>\n",
       "</div>"
      ],
      "text/plain": [
       "       ID  LABEL GENDER         DOB  LYMPH_COUNT\n",
       "0     P26      1      M   11/3/1933        11.20\n",
       "1    P183      1      M   5/15/1942        12.80\n",
       "2     P89      1      M   6/19/1935         9.60\n",
       "3    P123      1      M   1/27/1931       122.60\n",
       "4     P61      1      F    3/5/1931        11.60\n",
       "..    ...    ...    ...         ...          ...\n",
       "158  P135      1      M  27-08-1951         9.45\n",
       "159    P8      0      M  16-05-1975         4.91\n",
       "160  P130      0      F  16-05-1943         4.17\n",
       "161   P70      1      M  05-09-1987         5.66\n",
       "162   P60      0      F   5/23/1993         6.42\n",
       "\n",
       "[163 rows x 5 columns]"
      ]
     },
     "execution_count": 30,
     "metadata": {},
     "output_type": "execute_result"
    }
   ],
   "source": [
    "pd.read_csv(patients[-1])"
   ]
  },
  {
   "cell_type": "code",
   "execution_count": 65,
   "id": "d11c9beb",
   "metadata": {},
   "outputs": [],
   "source": [
    "class ImageDataset(Dataset):\n",
    "    def __init__(self, root_dir):\n",
    "        data = pd.read_csv(root_dir+\"/trainset_true.csv\")\n",
    "        self.id_label = {}\n",
    "        for Id, label in zip(data[\"ID\"], data[\"LABEL\"]):\n",
    "            self.id_label[Id] = label\n",
    "        \n",
    "        self.images = glob.glob(\"trainset/P*/*\")\n",
    "        \n",
    "    def __len__(self):\n",
    "        return len(self.images)\n",
    "    \n",
    "    def __getitem__(self, idx):\n",
    "        file_name = self.images[idx]\n",
    "        sp = file_name.split(\"/\")\n",
    "        Id = sp[1] \n",
    "        image, y = plt.imread(file_name), self.id_label[Id]\n",
    "        return torch.Tensor(image.transpose(-1, 0, 1)), torch.Tensor([y])"
   ]
  },
  {
   "cell_type": "code",
   "execution_count": 32,
   "id": "c06e9273",
   "metadata": {},
   "outputs": [],
   "source": [
    "dataset = ImageDataset(\"trainset\")\n",
    "dataloader = DataLoader(dataset, batch_size=64, shuffle=True)\n",
    "\n",
    "image_data_loader = DataLoader(dataset, batch_size=64, shuffle=True)"
   ]
  },
  {
   "cell_type": "code",
   "execution_count": 135,
   "id": "e7a9a148",
   "metadata": {},
   "outputs": [
    {
     "name": "stdout",
     "output_type": "stream",
     "text": [
      "clinical_annotation.csv   \u001b[0m\u001b[01;34mlabs\u001b[0m/                  submission.csv  \u001b[01;34mtrainset\u001b[0m/\r\n",
      "dl_medical_imaging.ipynb  sample_submission.csv  \u001b[01;34mtestset\u001b[0m/\r\n"
     ]
    }
   ],
   "source": [
    "ls"
   ]
  },
  {
   "cell_type": "code",
   "execution_count": 36,
   "id": "9ee05289",
   "metadata": {
    "collapsed": true
   },
   "outputs": [
    {
     "data": {
      "text/plain": [
       "array(['9/29/1928', '9/26/1934', '9/9/1983', '02-03-1953', '19-04-1970',\n",
       "       '6/21/1934', '3/30/1971', '01-02-1964', '8/3/1963', '4/2/1999',\n",
       "       '11/16/1993', '5/19/1992', '3/4/1969', '16-05-1943', '11/30/1953',\n",
       "       '11-04-1990', '2/23/1927', '4/7/1983', '1/16/1954', '11-03-1946',\n",
       "       '19-09-1967', '10/12/1959', '6/21/1923', '3/28/1959', '6/14/1983',\n",
       "       '2/28/1980', '5/11/1992', '8/14/1971', '19-12-1940', '12-05-1958',\n",
       "       '4/21/1949', '5/3/1943', '5/20/1959', '12/8/1981', '5/29/1927',\n",
       "       '11/19/1941', '11/16/1977', '3/24/1958', '6/16/1929', '25-03-1931',\n",
       "       '08-02-1944', '19-09-1984', '10/12/1977', '3/19/1946', '11/3/1933',\n",
       "       '24-11-1959', '16-05-1975', '29-07-1954', '5/18/1946', '3/13/1954',\n",
       "       '4/24/1936', '4/28/1949', '30-11-1945', '3/27/1960', '08-09-1948',\n",
       "       '20-05-1997', '2/14/1949', '4/9/1977', '2/23/1943', '9/26/1947',\n",
       "       '12/4/1966', '11/6/1932', '10/1/1979', '6/2/1932', '12/18/1924',\n",
       "       '1/3/1943', '16-01-1954', '07-11-1964', '6/6/1941', '05-09-1987',\n",
       "       '4/24/1936', '3/23/1945', '1/17/1946', '4/19/1998', '4/4/1938',\n",
       "       '5/15/1981', '3/3/1930', '7/31/1968', '02-07-1997', '17-11-1929',\n",
       "       '5/14/1970', '7/20/1997', '1/9/1935', '12/14/1952', '5/11/1987',\n",
       "       '5/23/1993', '19-06-1945', '5/18/1930', '7/5/1965', '8/20/1932',\n",
       "       '8/14/1939', '9/12/1972', '8/14/1962', '6/12/1948', '8/8/1949',\n",
       "       '12/2/1955', '5/18/1929', '3/30/1969', '08-02-1945', '5/28/1947',\n",
       "       '4/4/1979', '5/3/1952', '1/30/1978', '19-08-1961', '7/22/1984',\n",
       "       '05-08-1945', '6/17/1971', '10/1/1952', '11/13/1944', '11/22/1965',\n",
       "       '4/15/1955', '7/9/1936', '1/13/1938', '6/1/1935', '4/10/1936',\n",
       "       '6/3/1951', '27-08-1951', '6/19/1935', '9/30/1934', '7/22/1951',\n",
       "       '6/1/1981', '7/15/1946', '11/19/1957', '9/7/1936', '11/16/1942',\n",
       "       '11/3/1933', '7/7/1952', '9/19/1961', '1/20/1944', '3/5/1931',\n",
       "       '10/26/1951', '4/16/1937', '6/20/1945', '3/13/1945', '10/26/1954',\n",
       "       '3/3/1947', '5/15/1942', '12/14/1952', '2/26/1942', '8/4/1933',\n",
       "       '3/20/1961', '4/23/1931', '7/2/1933', '8/12/1934', '4/29/1932',\n",
       "       '5/16/1958', '1/23/1934', '1/16/1950', '7/2/1946', '1/7/1935',\n",
       "       '4/9/1944', '2/9/1934', '3/18/1948', '1/1/1970', '9/22/1953',\n",
       "       '5/9/1946', '9/5/1987', '3/22/1936', '1/16/1935', '3/20/1952',\n",
       "       '8/24/1945', '7/29/1932', '2/19/1954', '5/30/1952', '2/5/1963',\n",
       "       '4/30/1934', '5/22/1931', '7/1/1960', '3/5/1940', '2/19/1951',\n",
       "       '6/8/1965', '8/15/1927', '10/14/1944', '3/26/1958', '1/7/1948',\n",
       "       '28-04-1943', '6/18/1944', '4/9/1950', '4/12/1941', '3/21/1947',\n",
       "       '12/1/1951', '1/27/1921', '1/25/1935', '11/22/1958', '12/31/1933',\n",
       "       '10/7/1951', '4/25/1946', '12/8/1925', '1/2/1937', '8/29/1939',\n",
       "       '12/3/1963', '1/27/1931', '7/8/1952', '5/1/1939', '12/15/1962',\n",
       "       '9/21/1959', '5/29/1934', '9/19/1953', '4/10/1963', '6/5/1941',\n",
       "       '9/3/1931', '3/19/1942', '12/29/1964', '6/12/1932', '3/26/1929'],\n",
       "      dtype=object)"
      ]
     },
     "execution_count": 36,
     "metadata": {},
     "output_type": "execute_result"
    }
   ],
   "source": [
    "data[\"DOB\"].values"
   ]
  },
  {
   "cell_type": "code",
   "execution_count": 37,
   "id": "bf7f8535",
   "metadata": {
    "collapsed": true
   },
   "outputs": [
    {
     "data": {
      "text/html": [
       "<div>\n",
       "<style scoped>\n",
       "    .dataframe tbody tr th:only-of-type {\n",
       "        vertical-align: middle;\n",
       "    }\n",
       "\n",
       "    .dataframe tbody tr th {\n",
       "        vertical-align: top;\n",
       "    }\n",
       "\n",
       "    .dataframe thead th {\n",
       "        text-align: right;\n",
       "    }\n",
       "</style>\n",
       "<table border=\"1\" class=\"dataframe\">\n",
       "  <thead>\n",
       "    <tr style=\"text-align: right;\">\n",
       "      <th></th>\n",
       "      <th>Unnamed: 0</th>\n",
       "      <th>ID</th>\n",
       "      <th>LABEL</th>\n",
       "      <th>GENDER</th>\n",
       "      <th>DOB</th>\n",
       "      <th>LYMPH_COUNT</th>\n",
       "    </tr>\n",
       "  </thead>\n",
       "  <tbody>\n",
       "    <tr>\n",
       "      <th>107</th>\n",
       "      <td>107</td>\n",
       "      <td>P62</td>\n",
       "      <td>1</td>\n",
       "      <td>M</td>\n",
       "      <td>9/29/1928</td>\n",
       "      <td>2.28</td>\n",
       "    </tr>\n",
       "    <tr>\n",
       "      <th>53</th>\n",
       "      <td>53</td>\n",
       "      <td>P116</td>\n",
       "      <td>1</td>\n",
       "      <td>F</td>\n",
       "      <td>9/26/1934</td>\n",
       "      <td>3.94</td>\n",
       "    </tr>\n",
       "    <tr>\n",
       "      <th>152</th>\n",
       "      <td>152</td>\n",
       "      <td>P162</td>\n",
       "      <td>0</td>\n",
       "      <td>F</td>\n",
       "      <td>9/9/1983</td>\n",
       "      <td>4.01</td>\n",
       "    </tr>\n",
       "    <tr>\n",
       "      <th>189</th>\n",
       "      <td>189</td>\n",
       "      <td>P72</td>\n",
       "      <td>0</td>\n",
       "      <td>F</td>\n",
       "      <td>02-03-1953</td>\n",
       "      <td>4.02</td>\n",
       "    </tr>\n",
       "    <tr>\n",
       "      <th>186</th>\n",
       "      <td>186</td>\n",
       "      <td>P25</td>\n",
       "      <td>0</td>\n",
       "      <td>M</td>\n",
       "      <td>19-04-1970</td>\n",
       "      <td>4.02</td>\n",
       "    </tr>\n",
       "    <tr>\n",
       "      <th>...</th>\n",
       "      <td>...</td>\n",
       "      <td>...</td>\n",
       "      <td>...</td>\n",
       "      <td>...</td>\n",
       "      <td>...</td>\n",
       "      <td>...</td>\n",
       "    </tr>\n",
       "    <tr>\n",
       "      <th>117</th>\n",
       "      <td>117</td>\n",
       "      <td>P147</td>\n",
       "      <td>1</td>\n",
       "      <td>F</td>\n",
       "      <td>4/10/1963</td>\n",
       "      <td>175.71</td>\n",
       "    </tr>\n",
       "    <tr>\n",
       "      <th>14</th>\n",
       "      <td>14</td>\n",
       "      <td>P111</td>\n",
       "      <td>1</td>\n",
       "      <td>M</td>\n",
       "      <td>6/5/1941</td>\n",
       "      <td>180.00</td>\n",
       "    </tr>\n",
       "    <tr>\n",
       "      <th>10</th>\n",
       "      <td>10</td>\n",
       "      <td>P23</td>\n",
       "      <td>1</td>\n",
       "      <td>M</td>\n",
       "      <td>3/19/1942</td>\n",
       "      <td>211.00</td>\n",
       "    </tr>\n",
       "    <tr>\n",
       "      <th>8</th>\n",
       "      <td>8</td>\n",
       "      <td>P184</td>\n",
       "      <td>1</td>\n",
       "      <td>F</td>\n",
       "      <td>6/12/1932</td>\n",
       "      <td>220.00</td>\n",
       "    </tr>\n",
       "    <tr>\n",
       "      <th>19</th>\n",
       "      <td>19</td>\n",
       "      <td>P35</td>\n",
       "      <td>1</td>\n",
       "      <td>M</td>\n",
       "      <td>3/26/1929</td>\n",
       "      <td>295.00</td>\n",
       "    </tr>\n",
       "  </tbody>\n",
       "</table>\n",
       "<p>163 rows × 6 columns</p>\n",
       "</div>"
      ],
      "text/plain": [
       "     Unnamed: 0    ID  LABEL GENDER         DOB  LYMPH_COUNT\n",
       "107         107   P62      1      M   9/29/1928         2.28\n",
       "53           53  P116      1      F   9/26/1934         3.94\n",
       "152         152  P162      0      F    9/9/1983         4.01\n",
       "189         189   P72      0      F  02-03-1953         4.02\n",
       "186         186   P25      0      M  19-04-1970         4.02\n",
       "..          ...   ...    ...    ...         ...          ...\n",
       "117         117  P147      1      F   4/10/1963       175.71\n",
       "14           14  P111      1      M    6/5/1941       180.00\n",
       "10           10   P23      1      M   3/19/1942       211.00\n",
       "8             8  P184      1      F   6/12/1932       220.00\n",
       "19           19   P35      1      M   3/26/1929       295.00\n",
       "\n",
       "[163 rows x 6 columns]"
      ]
     },
     "execution_count": 37,
     "metadata": {},
     "output_type": "execute_result"
    }
   ],
   "source": [
    "data[data[\"LABEL\"]!=-1]"
   ]
  },
  {
   "cell_type": "code",
   "execution_count": 38,
   "id": "99076e7a",
   "metadata": {},
   "outputs": [],
   "source": [
    "class ClinicalData(Dataset):\n",
    "    def __init__(self, root_dir):\n",
    "        data = pd.read_csv(root_dir)\n",
    "        data = data[data[\"LABEL\"]!=-1]\n",
    "        self.label = data[\"LABEL\"].values \n",
    "        self.counts = data[\"LYMPH_COUNT\"].values\n",
    "        self.ages = []\n",
    "        for bod in data[\"DOB\"]:\n",
    "            self.ages.append(2024 - int(bod[-4:]))\n",
    "        \n",
    "        self.features = torch.Tensor(list(zip(self.counts, self.ages)))\n",
    "        \n",
    "    def __len__(self):\n",
    "        return len(self.label)\n",
    "    \n",
    "    def __getitem__(self, idx):\n",
    "        y = self.label[idx]\n",
    "        x = self.features[idx]\n",
    "        \n",
    "        return x, torch.Tensor([y])"
   ]
  },
  {
   "cell_type": "code",
   "execution_count": 39,
   "id": "83805be6",
   "metadata": {},
   "outputs": [],
   "source": [
    "clinical_data = ClinicalData(\"clinical_annotation.csv\")\n",
    "dataloader = DataLoader(clinical_data, batch_size=64, shuffle=True)"
   ]
  },
  {
   "cell_type": "code",
   "execution_count": 40,
   "id": "5ff25e85",
   "metadata": {},
   "outputs": [
    {
     "data": {
      "text/plain": [
       "(tensor([ 4.0200, 71.0000]), tensor([0.]))"
      ]
     },
     "execution_count": 40,
     "metadata": {},
     "output_type": "execute_result"
    }
   ],
   "source": [
    "x, y = next(iter(dataloader))\n",
    "x[0], y[0]"
   ]
  },
  {
   "cell_type": "code",
   "execution_count": 41,
   "id": "f08f2c19",
   "metadata": {},
   "outputs": [],
   "source": [
    "class MLP(nn.Module):\n",
    "    def __init__(self):\n",
    "        super(MLP, self).__init__()\n",
    "        self.mlp = nn.Sequential(\n",
    "            nn.Linear(2, 2),\n",
    "            nn.Linear(2, 1)\n",
    "        )\n",
    "        self.sigmoid = nn.Sigmoid()\n",
    "        \n",
    "    def forward(self, x):\n",
    "        return self.sigmoid(self.mlp(x))"
   ]
  },
  {
   "cell_type": "code",
   "execution_count": 42,
   "id": "9a6225d8",
   "metadata": {},
   "outputs": [],
   "source": [
    "model = MLP()"
   ]
  },
  {
   "cell_type": "code",
   "execution_count": 43,
   "id": "9effd2bd",
   "metadata": {},
   "outputs": [],
   "source": [
    "data_train = data[data[\"LABEL\"]!=-1]"
   ]
  },
  {
   "cell_type": "code",
   "execution_count": 44,
   "id": "5a617bfb",
   "metadata": {},
   "outputs": [],
   "source": [
    "optimizer = torch.optim.Adam(params = model.parameters(), lr=1e-1)\n",
    "criterion = nn.BCELoss()"
   ]
  },
  {
   "cell_type": "code",
   "execution_count": 45,
   "id": "579ba082",
   "metadata": {},
   "outputs": [
    {
     "data": {
      "text/plain": [
       "tensor([0.6931])"
      ]
     },
     "execution_count": 45,
     "metadata": {},
     "output_type": "execute_result"
    }
   ],
   "source": [
    "torch.log(torch.Tensor([2.]))"
   ]
  },
  {
   "cell_type": "code",
   "execution_count": 47,
   "id": "c0e2d69c",
   "metadata": {},
   "outputs": [
    {
     "name": "stderr",
     "output_type": "stream",
     "text": [
      "100%|██████████████████████████████████████| 1000/1000 [00:05<00:00, 170.52it/s]\n"
     ]
    }
   ],
   "source": [
    "n_epochs = 1000\n",
    "losses = []\n",
    "for _ in tqdm.tqdm(range(n_epochs)):\n",
    "    for i, (x, y) in enumerate(dataloader) :\n",
    "        y_pred = model(x)\n",
    "        optimizer.zero_grad()\n",
    "        loss = criterion(y_pred, y)\n",
    "        losses.append(loss.item())\n",
    "        loss.backward()\n",
    "        \n",
    "        optimizer.step()"
   ]
  },
  {
   "cell_type": "code",
   "execution_count": 48,
   "id": "001966a2",
   "metadata": {},
   "outputs": [
    {
     "data": {
      "text/plain": [
       "[<matplotlib.lines.Line2D at 0x7fc9ae6bd000>]"
      ]
     },
     "execution_count": 48,
     "metadata": {},
     "output_type": "execute_result"
    },
    {
     "data": {
      "image/png": "[encoded data removed]",
      "text/plain": [
       "<Figure size 432x288 with 1 Axes>"
      ]
     },
     "metadata": {
      "needs_background": "light"
     },
     "output_type": "display_data"
    }
   ],
   "source": [
    "plt.plot(losses)"
   ]
  },
  {
   "cell_type": "code",
   "execution_count": 49,
   "id": "bd663b34",
   "metadata": {},
   "outputs": [],
   "source": [
    "X, y = clinical_data.features, clinical_data.label"
   ]
  },
  {
   "cell_type": "code",
   "execution_count": 50,
   "id": "d9f7c570",
   "metadata": {},
   "outputs": [],
   "source": [
    "y_pred = (model(X)>.5).numpy().astype(float)[:,0]"
   ]
  },
  {
   "cell_type": "code",
   "execution_count": 52,
   "id": "f130e0cd",
   "metadata": {},
   "outputs": [
    {
     "name": "stdout",
     "output_type": "stream",
     "text": [
      "Accuracy on training set 0.8773006134969326\n"
     ]
    }
   ],
   "source": [
    "print(\"Accuracy on training set\", np.sum(y==y_pred)/len(y))"
   ]
  },
  {
   "cell_type": "code",
   "execution_count": 389,
   "id": "cc3ea193",
   "metadata": {},
   "outputs": [],
   "source": [
    "Xtrain, Xval = train_test_split(X)"
   ]
  },
  {
   "cell_type": "code",
   "execution_count": 106,
   "id": "fb58fae5",
   "metadata": {},
   "outputs": [],
   "source": [
    "class ResidualBlock(nn.Module):\n",
    "    def __init__(self, in_channels, out_channels):\n",
    "        super(ResidualBlock, self).__init__()\n",
    "        self.conv1 = nn.Conv2d(in_channels, out_channels, kernel_size=3, padding=1)\n",
    "        self.conv2 = nn.Conv2d(out_channels, out_channels, kernel_size=3, padding=1)\n",
    "        self.bn = nn.BatchNorm2d(out_channels)\n",
    "\n",
    "    def forward(self, x):\n",
    "        residual = x\n",
    "        out = F.relu(self.bn(self.conv1(x)))\n",
    "        out = self.bn(self.conv2(out))\n",
    "        out += residual\n",
    "        out = F.relu(out)\n",
    "        return out\n",
    "\n",
    "class ConvolutionalFeatureExtractor(nn.Module):\n",
    "    def __init__(self, in_channels, num_classes, K):\n",
    "        super(ConvolutionalFeatureExtractor, self).__init__()\n",
    "        self.conv1 = nn.Conv2d(in_channels, 64, kernel_size=7, stride=2, padding=3)\n",
    "        self.bn = nn.BatchNorm2d(64)\n",
    "        self.conv2 = self._make_layer(64, K, 2)\n",
    "        self.conv3 = self._make_layer(K, 2*K, 2)\n",
    "        self.conv4 = self._make_layer(2*K, 4*K, 2)\n",
    "        self.conv5 = self._make_layer(4*K, 8*K, 2)\n",
    "        self.flatten = nn.Flatten()\n",
    "        self.fc = nn.Linear(7 * 7 * 8 * K, 1)\n",
    "        self.sigmoid = nn.Sigmoid()\n",
    "\n",
    "    def _make_layer(self, in_channels, out_channels, blocks):\n",
    "        layers = []\n",
    "        layers.append(nn.Conv2d(in_channels, out_channels, kernel_size=3, padding=1, stride=2))\n",
    "        layers.append(nn.ReLU(inplace=True))\n",
    "        for _ in range(blocks):\n",
    "            layers.append(ResidualBlock(out_channels, out_channels))\n",
    "        return nn.Sequential(*layers)\n",
    "\n",
    "    def forward(self, x):\n",
    "        x = F.relu(self.bn(self.conv1(x)))\n",
    "        x = self.conv2(x)\n",
    "        x = self.conv3(x)\n",
    "        x = self.conv4(x)\n",
    "        x = self.conv5(x)\n",
    "        x = self.flatten(x)\n",
    "        x = self.fc(x)\n",
    "        x = self.sigmoid(x)\n",
    "        return x"
   ]
  },
  {
   "cell_type": "code",
   "execution_count": 107,
   "id": "38dc2c6f",
   "metadata": {},
   "outputs": [],
   "source": [
    "feature_extractor = ConvolutionalFeatureExtractor(3, K=2, num_classes=2)"
   ]
  },
  {
   "cell_type": "code",
   "execution_count": 108,
   "id": "7955260c",
   "metadata": {},
   "outputs": [],
   "source": [
    "optimizer = torch.optim.Adam(params = model.parameters())\n",
    "criterion = loss = nn.NLLLoss()"
   ]
  },
  {
   "cell_type": "code",
   "execution_count": 109,
   "id": "2a00917d",
   "metadata": {},
   "outputs": [],
   "source": [
    "dataset = ImageDataset(\"trainset\")\n",
    "dataloader = DataLoader(dataset, batch_size=64, shuffle=True)\n",
    "image_data_loader = DataLoader(dataset, batch_size=64, shuffle=True)"
   ]
  },
  {
   "cell_type": "code",
   "execution_count": 110,
   "id": "53829be4",
   "metadata": {},
   "outputs": [],
   "source": [
    "x, y = next(iter(image_data_loader))"
   ]
  },
  {
   "cell_type": "code",
   "execution_count": null,
   "id": "7924de01",
   "metadata": {},
   "outputs": [
    {
     "name": "stderr",
     "output_type": "stream",
     "text": [
      "\r",
      "  0%|                                                     | 0/1 [00:00<?, ?it/s]"
     ]
    }
   ],
   "source": [
    "n_epochs = 1\n",
    "losses = []\n",
    "for _ in tqdm.tqdm(range(n_epochs)):\n",
    "    for i, (x, y) in enumerate(image_data_loader) :\n",
    "        y_pred = feature_extractor(x)\n",
    "        optimizer.zero_grad()\n",
    "        loss = criterion(y_pred, y)\n",
    "        losses.append(loss.item())\n",
    "        loss.backward()\n",
    "        \n",
    "        optimizer.step()"
   ]
  },
  {
   "cell_type": "code",
   "execution_count": null,
   "id": "0578428e",
   "metadata": {},
   "outputs": [],
   "source": []
  }
 ],
 "metadata": {
  "kernelspec": {
   "display_name": "Python 3 (ipykernel)",
   "language": "python",
   "name": "python3"
  },
  "language_info": {
   "codemirror_mode": {
    "name": "ipython",
    "version": 3
   },
   "file_extension": ".py",
   "mimetype": "text/x-python",
   "name": "python",
   "nbconvert_exporter": "python",
   "pygments_lexer": "ipython3",
   "version": "3.10.12"
  }
 },
 "nbformat": 4,
 "nbformat_minor": 5
}
